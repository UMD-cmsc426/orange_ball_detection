{
 "cells": [
  {
   "cell_type": "code",
   "execution_count": 1,
   "metadata": {},
   "outputs": [],
   "source": [
    "import os\n",
    "import cv2\n",
    "import numpy as np\n",
    "import random\n",
    "import sys\n",
    "import testGMM\n",
    "import re\n",
    "import copy"
   ]
  },
  {
   "cell_type": "code",
   "execution_count": 2,
   "metadata": {
    "pycharm": {
     "name": "#%%\n"
    }
   },
   "outputs": [],
   "source": [
    "# parameters:\n",
    "# k: int, number of guassian distribution\n",
    "# max_iter: int, maximum number of step in optimization\n",
    "# img_name: strings, the relative path to single image, i.e. \"train_images/032.jpg\"\n",
    "def trainGMM(K, max_iter, img_name):\n",
    "    # read img\n",
    "    img = cv2.imread(img_name)\n",
    "    # user defined converge threshold\n",
    "    tau = 0.00000000000000001\n",
    "\n",
    "    def initialize():\n",
    "        mean = np.asmatrix([[random.randint(1, 255)],[random.randint(1, 255)],[random.randint(1, 255)]])\n",
    "        # generate a random positive-semidefinete matrix as covariance matrix\n",
    "        A = np.random.random((3,3))*20\n",
    "        cov = np.dot(A, A.transpose())\n",
    "        scaling = random.random() * 5.0\n",
    "        return [scaling,mean,cov]\n",
    "\n",
    "    params = [initialize() for cluster in range(K)]\n",
    "    # Structure of para:\n",
    "    # [[scale,mean,covariance],[scale,mean,covariance],[scale,mean,covariance]...]\n",
    "    # scale is a int. Mean is a 3x1 matrix. Covariance is a 3x3 matrix\n",
    "\n",
    "    # total_mean is the sum of all mean from different clusters\n",
    "    total_mean = np.full((K,3, 3), -9999)\n",
    "    prev_total_mean = np.full((K,3, 3), 9999)\n",
    "    iter = 0\n",
    "\n",
    "    # return true if MLE converges. Return false otherwise\n",
    "    def check_convergence(total_mean, prev_toal_mean, tau):\n",
    "        sum = 0\n",
    "        print(\"For cluster 1, total_mean and Prev_total_mean are as follow\\n\")\n",
    "        print(\"curr mean: \", total_mean[0])\n",
    "        print(\"prev mean: \", prev_total_mean[0])\n",
    "        for cluster in range(len(prev_toal_mean)):\n",
    "            sum += np.linalg.norm(total_mean[cluster]-prev_total_mean[cluster])\n",
    "        print(\"Check convergence difference: \", sum)\n",
    "        return sum >= tau\n",
    "\n",
    "    while iter < max_iter and check_convergence(total_mean,prev_total_mean,tau):\n",
    "        print(\"iter: \", iter)\n",
    "        # update prev total mean\n",
    "        prev_total_mean = copy.deepcopy(total_mean)\n",
    "\n",
    "        # Expectation step - assign points to clusters, get cluster weight\n",
    "        weights = [ [] for _ in range(K) ]\n",
    "        for cluster in range(K):\n",
    "            # weight for a single cluster\n",
    "            cluster_weights = np.zeros((img.shape[0], img.shape[1]))\n",
    "            # cumulated weights add up all weights on a given pixel -- serving as denominator\n",
    "            cumulated_weights = np.zeros((img.shape[0], img.shape[1]))\n",
    "            cluster_scaling, cluster_mean, cluster_cov = params[cluster]\n",
    "            # print(\"Current scaliing for cluster \", cluster_scaling)\n",
    "            # print(\"Current mean for cluster \", cluster_mean)\n",
    "            # print(\"Current cov for cluster \\n\", cluster_cov)\n",
    "\n",
    "\n",
    "            for w in range(len(img[:, 0, 0])):\n",
    "                for h in range(len(img[0, :, 0])):\n",
    "                    pix = np.asmatrix([[img[w][h][0]], [img[w][h][1]], [img[w][h][2]]])\n",
    "                    try:\n",
    "                        likelihood = testGMM.get_likelihood(pix, cluster_mean, cluster_cov)\n",
    "                    except:\n",
    "                        likelihood = 0\n",
    "                    likelihood = likelihood if likelihood != 0 else sys.float_info.min\n",
    "                    # if likelihood == 0:\n",
    "                    #     print(\"likelihood is zero\")\n",
    "                    #     print(\"curr_pix: \\n\",pix)\n",
    "                    #     print(\"cluster_mean: \\n\", cluster_mean)\n",
    "                    #     print(\"cluster cov: \\n\", cluster_cov)\n",
    "                    #     sys.exit()\n",
    "                    ## calculate weight at position (w, h)\n",
    "                    weight = cluster_scaling * likelihood\n",
    "                    cumulated_weights[w][h] += weight\n",
    "                    cluster_weights[w][h] = weight # probability of each pixel belonging to this cluster\n",
    "\n",
    "            weights[cluster] = cluster_weights # weights for all clusters 1 to K,\n",
    "            #weights[i][w][h]is the probability of the (w,h) pixel belonging to the ith cluster\n",
    "        for cluster in range(K):\n",
    "            weights[cluster] = np.divide(weights[cluster], cumulated_weights)\n",
    "\n",
    "        # Maximization step - get new scaling, mean, and cov for each cluster\n",
    "        for cluster in range(K):\n",
    "            mean_sum = np.zeros((3,1)) # sums all weight*pixel RGB value on image\n",
    "            cov_sum = np.zeros((3,3))\n",
    "            sum_weights = np.sum(weights[cluster]) # sum of all the weights given a cluster\n",
    "            for w in range(len(img[:, 0, 0])):\n",
    "                for h in range(len(img[0, :, 0])):\n",
    "                    pix = np.asmatrix([[img[w][h][0]], [img[w][h][1]], [img[w][h][2]]])\n",
    "                    # calculate mean\n",
    "                    mean_sum += np.multiply(weights[cluster][w][h],pix)\n",
    "\n",
    "            new_mean = np.divide(mean_sum, sum_weights)\n",
    "\n",
    "            for w in range(len(img[:, 0, 0])):\n",
    "                for h in range(len(img[0, :, 0])):\n",
    "                    pix = np.asmatrix([[img[w][h][0]], [img[w][h][1]], [img[w][h][2]]])\n",
    "                    # calculate covariance\n",
    "                    cov_sum += np.multiply(weights[cluster][w][h], (pix - new_mean))@((pix - new_mean).T)\n",
    "            new_cov = np.divide(cov_sum, sum_weights)\n",
    "            new_scaling = sum_weights / (img.shape[0]*img.shape[1])\n",
    "            mean_sum += mean_sum\n",
    "\n",
    "            total_mean[cluster] = new_mean\n",
    "            print(\"new mean at cluster \", cluster, \"is \", new_mean )\n",
    "            # update model\n",
    "            params[cluster] = (new_scaling, new_mean, new_cov)\n",
    "        print(\"-----------------\")\n",
    "        iter += 1\n",
    "    # store weights to .npy\n",
    "    if not os.path.exists(\"weights\"):\n",
    "        os.mkdir(\"weights\")\n",
    "    else:\n",
    "        digit = re.findall(r'\\d+\\d+\\d*',img_name)\n",
    "        file_name = str(digit[0])+\"_weight.npy\"\n",
    "        with open(os.path.join(\"weights\",file_name), \"wb\") as f:\n",
    "            np.save(f,params)"
   ]
  },
  {
   "cell_type": "code",
   "execution_count": 3,
   "metadata": {
    "pycharm": {
     "name": "#%% testing below\n"
    }
   },
   "outputs": [
    {
     "name": "stdout",
     "output_type": "stream",
     "text": [
      "For cluster 1, total_mean and Prev_total_mean are as follow\n",
      "\n",
      "curr mean:  [[-9999 -9999 -9999]\n",
      " [-9999 -9999 -9999]\n",
      " [-9999 -9999 -9999]]\n",
      "prev mean:  [[9999 9999 9999]\n",
      " [9999 9999 9999]\n",
      " [9999 9999 9999]]\n",
      "Check convergence difference:  119988.0\n",
      "iter:  0\n",
      "pixel\n",
      "  [[0]\n",
      " [0]\n",
      " [0]]\n",
      "mean\n",
      "  [[ 35]\n",
      " [120]\n",
      " [ 16]]\n",
      "cov\n",
      "  [[177.79559689 274.45152551 324.01227339]\n",
      " [274.45152551 453.37541058 505.25593139]\n",
      " [324.01227339 505.25593139 714.20696346]]\n",
      "pixel\n",
      "  [[0]\n",
      " [0]\n",
      " [0]]\n",
      "mean\n",
      "  [[57]\n",
      " [92]\n",
      " [93]]\n",
      "cov\n",
      "  [[906.80394172 457.68186477 767.37745175]\n",
      " [457.68186477 263.46068557 393.13375512]\n",
      " [767.37745175 393.13375512 759.99667535]]\n",
      "new mean at cluster  0 is  [[0.00013743]\n",
      " [0.00025246]\n",
      " [0.00040267]]\n",
      "new mean at cluster  1 is  [[132.05619466]\n",
      " [133.52069987]\n",
      " [132.32685547]]\n",
      "-----------------\n",
      "For cluster 1, total_mean and Prev_total_mean are as follow\n",
      "\n",
      "curr mean:  [[0 0 0]\n",
      " [0 0 0]\n",
      " [0 0 0]]\n",
      "prev mean:  [[-9999 -9999 -9999]\n",
      " [-9999 -9999 -9999]\n",
      " [-9999 -9999 -9999]]\n",
      "Check convergence difference:  60391.000032901225\n",
      "iter:  1\n",
      "pixel\n",
      "  [[0]\n",
      " [0]\n",
      " [0]]\n",
      "mean\n",
      "  [[0.00013743]\n",
      " [0.00025246]\n",
      " [0.00040267]]\n",
      "cov\n",
      "  [[0.01181988 0.0217132  0.03463168]\n",
      " [0.0217132  0.03988736 0.06361872]\n",
      " [0.03463168 0.06361872 0.1014693 ]]\n",
      "pixel\n",
      "  [[0]\n",
      " [0]\n",
      " [0]]\n",
      "mean\n",
      "  [[132.05619466]\n",
      " [133.52069987]\n",
      " [132.32685547]]\n",
      "cov\n",
      "  [[2785.92174776 2852.91665416 2928.38523598]\n",
      " [2852.91665416 2947.37138792 3042.27087736]\n",
      " [2928.38523598 3042.27087736 3212.87691551]]\n",
      "new mean at cluster  0 is  [[9.14765620e-210]\n",
      " [4.89592916e-210]\n",
      " [2.13874781e-209]]\n",
      "new mean at cluster  1 is  [[132.05619466]\n",
      " [133.52069987]\n",
      " [132.32685547]]\n",
      "-----------------\n",
      "For cluster 1, total_mean and Prev_total_mean are as follow\n",
      "\n",
      "curr mean:  [[0 0 0]\n",
      " [0 0 0]\n",
      " [0 0 0]]\n",
      "prev mean:  [[0 0 0]\n",
      " [0 0 0]\n",
      " [0 0 0]]\n",
      "Check convergence difference:  0.0\n",
      "Finish Training for  train_images/99.jpg\n"
     ]
    },
    {
     "name": "stderr",
     "output_type": "stream",
     "text": [
      "/home/da/cmsc426/hw1env/lib/python3.6/site-packages/numpy/core/_asarray.py:136: VisibleDeprecationWarning: Creating an ndarray from ragged nested sequences (which is a list-or-tuple of lists-or-tuples-or ndarrays with different lengths or shapes) is deprecated. If you meant to do this, you must specify 'dtype=object' when creating the ndarray\n",
      "  return array(a, dtype, copy=False, order=order, subok=True)\n"
     ]
    }
   ],
   "source": [
    "input_dir = \"train_images\"\n",
    "for img_name in os.listdir(input_dir):\n",
    "    img = os.path.join(input_dir, img_name)\n",
    "    trainGMM(2,200,img)\n",
    "    print(\"Finish Training for \", img)\n",
    "    break"
   ]
  },
  {
   "cell_type": "markdown",
   "metadata": {
    "pycharm": {
     "name": "#%% md\n"
    }
   },
   "source": [
    "with open('weights/68_weight.npy', 'rb') as f:\n",
    "    a = np.load(f, allow_pickle=True)\n",
    "    print(a[2])"
   ]
  },
  {
   "cell_type": "code",
   "execution_count": 4,
   "metadata": {
    "pycharm": {
     "name": "#%%\n"
    }
   },
   "outputs": [
    {
     "name": "stdout",
     "output_type": "stream",
     "text": [
      "likelihood:  0.0\n",
      "[[-1346.9566598]]\n"
     ]
    }
   ],
   "source": [
    "import testGMM\n",
    "import math\n",
    "pix = np.asmatrix([[157],[140],[121]])\n",
    "mean =  np.asmatrix([[6], [191], [140]])\n",
    "cov =  np.asmatrix([[1154 ,1497 ,1072], [1497, 2330 ,1198], [1072 ,1198, 1123]])\n",
    "likelihood = testGMM.get_likelihood(pix, mean, cov)\n",
    "print(\"likelihood: \", likelihood)\n",
    "print((-0.5) * (pix - mean).T @ np.linalg.inv(cov) @ (pix - mean))"
   ]
  },
  {
   "cell_type": "code",
   "execution_count": 5,
   "metadata": {
    "pycharm": {
     "name": "#%%\n"
    }
   },
   "outputs": [
    {
     "name": "stdout",
     "output_type": "stream",
     "text": [
      "[[], [[3], [2], [2]], []]\n"
     ]
    }
   ],
   "source": [
    "import numpy as np\n",
    "A = [ [] for _ in range(3) ]\n",
    "A[1] = [[3],[2],[2]]\n",
    "print(A)"
   ]
  }
 ],
 "metadata": {
  "kernelspec": {
   "display_name": "Python 3",
   "language": "python",
   "name": "python3"
  },
  "language_info": {
   "codemirror_mode": {
    "name": "ipython",
    "version": 3
   },
   "file_extension": ".py",
   "mimetype": "text/x-python",
   "name": "python",
   "nbconvert_exporter": "python",
   "pygments_lexer": "ipython3",
   "version": "3.6.10"
  }
 },
 "nbformat": 4,
 "nbformat_minor": 1
}
