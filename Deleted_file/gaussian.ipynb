{
 "cells": [
  {
   "cell_type": "markdown",
   "metadata": {
    "collapsed": true,
    "pycharm": {
     "name": "#%% md\n"
    }
   },
   "source": [
    "Cluster the orange ball using Single Guassian"
   ]
  },
  {
   "cell_type": "code",
   "execution_count": 1,
   "metadata": {
    "pycharm": {
     "name": "#%%\n"
    }
   },
   "outputs": [],
   "source": [
    "# import packages\n",
    "import cv2\n",
    "import os\n",
    "import numpy as np\n",
    "import math\n",
    "import scipy\n",
    "import matplotlib.pyplot as plt\n",
    "import sys\n",
    "# from datetime import datetime # for benchmarking purpose\n",
    "\n",
    "# load data\n",
    "train_dir = \"train_images\"# path to the train image dataset\n",
    "test_dir = \"test_images\"# path to the train image dataset\n",
    "# output directory\n",
    "output_dir = \"results\"\n",
    "# User defined threshold\n",
    "tau = 0.00000017\n",
    "prior = 0.5"
   ]
  },
  {
   "cell_type": "code",
   "execution_count": 2,
   "metadata": {
    "pycharm": {
     "name": "#%%\n"
    }
   },
   "outputs": [],
   "source": [
    "def cal_mean_cov(img):\n",
    "    l, w, h = img.shape\n",
    "    mean = [[np.sum(img[:,:,0])/(l*w)],[np.sum(img[:,:,1])/(l*w)],[np.sum(img[:,:,2])/(l*w)]]\n",
    "    cov = np.zeros((3,3),)\n",
    "    #R_value = []\n",
    "    for width in range(len(img[:,0,0])):\n",
    "        for length in range(len(img[0,:,0])):\n",
    "            RGB_value = [[img[width][length][0]],[img[width][length][1]],[img[width][length][2]]]\n",
    "            cov = cov + (np.asmatrix(RGB_value) - np.asmatrix(mean))@(np.asmatrix(RGB_value) - np.asmatrix(mean)).T\n",
    "            #R_value.append(img[width][length][0])\n",
    "    cov = cov/(l*w)\n",
    "    #print(\"size of image: \", l*w)\n",
    "    #print(\"variance for R is: \", np.var(R_value))\n",
    "    return mean,cov"
   ]
  },
  {
   "cell_type": "code",
   "execution_count": 3,
   "metadata": {},
   "outputs": [],
   "source": [
    "def cal_mean_cov_vectorized(X):\n",
    "    N, D = X.shape\n",
    "    mean = X.mean(axis = 0) # compute mean\n",
    "    cov = np.matmul((X - mean).T, (X - mean))/(N-1) # compute covariance\n",
    "    return mean, cov"
   ]
  },
  {
   "cell_type": "code",
   "execution_count": 4,
   "metadata": {
    "pycharm": {
     "name": "#%%\n"
    },
    "scrolled": false
   },
   "outputs": [],
   "source": [
    "# return Nx3 array\n",
    "def extract_orange_pixels():\n",
    "    # store orange pixels, each row is a pixel\n",
    "    orange_pixels = np.array([])\n",
    "\n",
    "    for img_name in os.listdir(train_dir):\n",
    "        if \"mask\" in img_name:\n",
    "            continue\n",
    "        img = cv2.imread(os.path.join(train_dir, img_name))\n",
    "        # load mask for it\n",
    "        img_mask = cv2.imread(os.path.join(train_dir, img_name.split(\".\")[0]+\"_mask.png\"))\n",
    "        # reshape to num of rows = num of pixels, num of column = 3 (BGR)\n",
    "        X = img.transpose(2,0,1).reshape(3,-1).T \n",
    "        # reshape and sum mask to 1d array\n",
    "        X_mask = img_mask.transpose(2,0,1).reshape(3,-1).T.sum(1) \n",
    "        # if empty array\n",
    "        if orange_pixels.size == 0:\n",
    "            orange_pixels = X[X_mask>50] # get pixels that are not black in mask\n",
    "        else:\n",
    "            orange_pixels = np.append(orange_pixels, X[X_mask>20], axis =0)\n",
    "\n",
    "    return orange_pixels\n",
    "\n",
    "# print orange pixels\n",
    "# np.set_printoptions(threshold=np.inf)\n",
    "# print(extract_orange_pixels())\n",
    "# cv2.imshow(\"image_name\", extract_orange_pixels().reshape(32, -1, 3))\n",
    "# cv2.waitKey(0)"
   ]
  },
  {
   "cell_type": "code",
   "execution_count": 5,
   "metadata": {},
   "outputs": [],
   "source": [
    "# train on orange pixels\n",
    "# param X is orange pixels, Nx3 array \n",
    "def train_on_orange_pixels(X):\n",
    "    mean, cov = cal_mean_cov_vectorized(X)   \n",
    "    return mean, cov"
   ]
  },
  {
   "cell_type": "code",
   "execution_count": 6,
   "metadata": {},
   "outputs": [],
   "source": [
    "# test on test images\n",
    "# param: mean and cov of all orange pixels\n",
    "def test(orange_mean, orange_cov):\n",
    "    for img_name in os.listdir(test_dir):\n",
    "        img = cv2.imread(os.path.join(test_dir, img_name))\n",
    "        l, w, h = img.shape # original shape of 2D image\n",
    "        X = img.transpose(2,0,1).reshape(3,-1).T # reshape to num of rows = num of pixels, num of column = 3 (RGB)\n",
    "        N, D = X.shape\n",
    "        #img = X.reshape(l, w, -1) # reshape back to 2d image\n",
    "    \n",
    "        # calculate likelihood using gaussian distribution\n",
    "        # each pixel is row of X\n",
    "        constant_in_likelihood = 1/(math.sqrt(((2*math.pi)**3)* np.linalg.det(orange_cov))) \n",
    "        sigma_inv = np.linalg.inv(orange_cov)\n",
    "        X2 = X-orange_mean\n",
    "        exponent = (-0.5)*(np.dot(X2, sigma_inv) * X2).sum(1) \n",
    "        likelihood = constant_in_likelihood * np.exp(exponent)\n",
    "\n",
    "        # posterior\n",
    "        prior = 0.5\n",
    "        posterior = prior* likelihood \n",
    "        \n",
    "        # mask (reshape back to 2D image)\n",
    "        mask = posterior.reshape(l, w) \n",
    "        #print(mask)\n",
    "        \n",
    "        # apply mask\n",
    "        img[mask < tau] = 0\n",
    "\n",
    "        ##  show masked img\n",
    "        image_name = os.path.join(output_dir,\"single_gaussian_\"+ str(img_name))\n",
    "        cv2.imshow(image_name, img)\n",
    "        if not os.path.exists(output_dir):\n",
    "            os.mkdir(output_dir)\n",
    "        cv2.imwrite(image_name, img)\n",
    "        cv2.waitKey(0)\n",
    "        print(\"Finish Generating mask for image \", str(img_name))\n",
    "    print(\"Complete Process All Images\")\n"
   ]
  },
  {
   "cell_type": "code",
   "execution_count": 7,
   "metadata": {},
   "outputs": [
    {
     "name": "stdout",
     "output_type": "stream",
     "text": [
      "orange_mean: [ 84.96744737 111.55088526 203.92534504]\n",
      "orange_cov: \n",
      "[[1324.48893677 1413.38440317  773.44964351]\n",
      " [1413.38440317 1737.22644502 1260.45744149]\n",
      " [ 773.44964351 1260.45744149 1544.4586298 ]]\n",
      "Finish Generating mask for image  99.jpg\n",
      "Finish Generating mask for image  248.jpg\n",
      "Finish Generating mask for image  208.jpg\n",
      "Finish Generating mask for image  144.jpg\n",
      "Finish Generating mask for image  256.jpg\n",
      "Finish Generating mask for image  223.jpg\n",
      "Finish Generating mask for image  68.jpg\n",
      "Finish Generating mask for image  91.jpg\n",
      "Finish Generating mask for image  231.jpg\n",
      "Finish Generating mask for image  76.jpg\n",
      "Finish Generating mask for image  168.jpg\n",
      "Finish Generating mask for image  152.jpg\n",
      "Finish Generating mask for image  216.jpg\n",
      "Finish Generating mask for image  106.jpg\n",
      "Finish Generating mask for image  264.jpg\n",
      "Finish Generating mask for image  192.jpg\n",
      "Finish Generating mask for image  114.jpg\n",
      "Finish Generating mask for image  200.jpg\n",
      "Finish Generating mask for image  121.jpg\n",
      "Finish Generating mask for image  137.jpg\n",
      "Finish Generating mask for image  160.jpg\n",
      "Finish Generating mask for image  176.jpg\n",
      "Finish Generating mask for image  280.jpg\n",
      "Complete Process All Images\n"
     ]
    }
   ],
   "source": [
    "orange_mean, orange_cov = train_on_orange_pixels(extract_orange_pixels())\n",
    "print(\"orange_mean: \"+ str(orange_mean)) # BGR, not RGB\n",
    "print(\"orange_cov: \\n\" + str(orange_cov))\n",
    "test(orange_mean, orange_cov)"
   ]
  },
  {
   "cell_type": "code",
   "execution_count": 8,
   "metadata": {
    "pycharm": {
     "name": "#%%\n"
    }
   },
   "outputs": [
    {
     "data": {
      "text/plain": [
       "['single_gaussian_result', 'masked_train_imagesF.jpg']"
      ]
     },
     "execution_count": 8,
     "metadata": {},
     "output_type": "execute_result"
    }
   ],
   "source": [
    "v = \"single_gaussian_result\\masked_train_images\\106.jpg\"\n",
    "v.split('\\\\')"
   ]
  },
  {
   "cell_type": "code",
   "execution_count": 9,
   "metadata": {
    "pycharm": {
     "name": "#%%from scipy import random, linalg\n"
    }
   },
   "outputs": [
    {
     "name": "stdout",
     "output_type": "stream",
     "text": [
      "random positive semi-define matrix for today is [[0.42353427 0.60524585 0.94764823]\n",
      " [0.60524585 1.56792883 1.76721325]\n",
      " [0.94764823 1.76721325 2.6248064 ]]\n"
     ]
    }
   ],
   "source": [
    "matrixSize = 3\n",
    "A = scipy.random.rand(matrixSize,matrixSize)\n",
    "B = np.dot(A,A.transpose())\n",
    "print ('random positive semi-define matrix for today is', B)\n"
   ]
  },
  {
   "cell_type": "code",
   "execution_count": null,
   "metadata": {
    "pycharm": {
     "name": "#%%\n"
    }
   },
   "outputs": [],
   "source": []
  }
 ],
 "metadata": {
  "kernelspec": {
   "display_name": "Python 3",
   "language": "python",
   "name": "python3"
  },
  "language_info": {
   "codemirror_mode": {
    "name": "ipython",
    "version": 3
   },
   "file_extension": ".py",
   "mimetype": "text/x-python",
   "name": "python",
   "nbconvert_exporter": "python",
   "pygments_lexer": "ipython3",
   "version": "3.6.10"
  }
 },
 "nbformat": 4,
 "nbformat_minor": 1
}
