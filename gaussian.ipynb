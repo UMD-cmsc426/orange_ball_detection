{
 "cells": [
  {
   "cell_type": "markdown",
   "metadata": {
    "collapsed": true,
    "pycharm": {
     "name": "#%% md\n"
    }
   },
   "source": [
    "Cluster the orange ball using Single Guassian"
   ]
  },
  {
   "cell_type": "code",
   "execution_count": 1,
   "metadata": {
    "pycharm": {
     "name": "#%%\n"
    }
   },
   "outputs": [],
   "source": [
    "# import packages\n",
    "import cv2\n",
    "import os\n",
    "import numpy as np\n",
    "import math\n",
    "import scipy\n",
    "# from datetime import datetime # for benchmarking purpose"
   ]
  },
  {
   "cell_type": "code",
   "execution_count": 2,
   "metadata": {
    "pycharm": {
     "name": "#%%\n"
    }
   },
   "outputs": [],
   "source": [
    "def cal_mean_cov(img):\n",
    "    l, w, h = img.shape\n",
    "    mean = [[np.sum(img[:,:,0])/(l*w)],[np.sum(img[:,:,1])/(l*w)],[np.sum(img[:,:,2])/(l*w)]]\n",
    "    cov = np.zeros((3,3),)\n",
    "    #R_value = []\n",
    "    for width in range(len(img[:,0,0])):\n",
    "        for length in range(len(img[0,:,0])):\n",
    "            RGB_value = [[img[width][length][0]],[img[width][length][1]],[img[width][length][2]]]\n",
    "            cov = cov + (np.asmatrix(RGB_value) - np.asmatrix(mean))@(np.asmatrix(RGB_value) - np.asmatrix(mean)).T\n",
    "            #R_value.append(img[width][length][0])\n",
    "    cov = cov/(l*w)\n",
    "    #print(\"size of image: \", l*w)\n",
    "    #print(\"variance for R is: \", np.var(R_value))\n",
    "    return mean,cov"
   ]
  },
  {
   "cell_type": "code",
   "execution_count": 3,
   "metadata": {},
   "outputs": [],
   "source": [
    "def cal_mean_cov_vectorized(X):\n",
    "    N, D = X.shape\n",
    "    mean = X.mean(axis = 0) # compute mean\n",
    "    cov = np.matmul((X - mean).T, (X - mean))/(N-1) # compute covariance\n",
    "    return mean, cov"
   ]
  },
  {
   "cell_type": "code",
   "execution_count": 4,
   "metadata": {
    "pycharm": {
     "name": "#%%\n"
    },
    "scrolled": false
   },
   "outputs": [
    {
     "name": "stdout",
     "output_type": "stream",
     "text": [
      "Finish Generating mask for image  99.jpg\n",
      "Finish Generating mask for image  248.jpg\n",
      "Finish Generating mask for image  208.jpg\n",
      "Finish Generating mask for image  144.jpg\n",
      "Finish Generating mask for image  256.jpg\n",
      "Finish Generating mask for image  223.jpg\n",
      "Finish Generating mask for image  68.jpg\n",
      "Finish Generating mask for image  91.jpg\n",
      "Finish Generating mask for image  231.jpg\n",
      "Finish Generating mask for image  76.jpg\n",
      "Finish Generating mask for image  168.jpg\n",
      "Finish Generating mask for image  152.jpg\n",
      "Finish Generating mask for image  216.jpg\n",
      "Finish Generating mask for image  106.jpg\n",
      "Finish Generating mask for image  264.jpg\n",
      "Finish Generating mask for image  192.jpg\n",
      "Finish Generating mask for image  114.jpg\n",
      "Finish Generating mask for image  200.jpg\n",
      "Finish Generating mask for image  121.jpg\n",
      "Finish Generating mask for image  137.jpg\n",
      "Finish Generating mask for image  160.jpg\n",
      "Finish Generating mask for image  176.jpg\n",
      "Finish Generating mask for image  280.jpg\n",
      "Complete Process All Images\n"
     ]
    }
   ],
   "source": [
    "# load data\n",
    "input_dir = \"train_images\"# path to the train image dataset\n",
    "# output directory\n",
    "output_dir = \"single_gaussian_result\"\n",
    "# User defined threshold\n",
    "tau = 0.00000000000000001\n",
    "prior = 0.5\n",
    "\n",
    "for img_name in os.listdir(input_dir):\n",
    "    img = cv2.imread(os.path.join(input_dir, img_name))\n",
    "    l, w, h = img.shape # original shape of 2D image\n",
    "    X = img.transpose(2,0,1).reshape(3,-1).T # reshape to num of rows = num of pixels, num of column = 3 (RGB)\n",
    "    N, D = X.shape\n",
    "    #img = X.reshape(l, w, -1) # reshape back to 2d image\n",
    "\n",
    "    \"\"\"\n",
    "    # element-wise algorithm (original)\n",
    "    print(\"start element-wise algorithm\", datetime.now().strftime(\"%H:%M:%S\"))\n",
    "    mean, cov = cal_mean_cov(img)\n",
    "\n",
    "    # creat a mask to indicate the position of ball\n",
    "    mask = np.zeros((img.shape[:-1]))\n",
    "    #print(\"cov: \\n\", cov)\n",
    "    \n",
    "    likelihood_list = []\n",
    "    \n",
    "    for width in range(len(img[:,0,0])):\n",
    "        for length in range(len(img[0,:,0])):\n",
    "            curr_pixel = np.asmatrix([[img[width][length][0]],[img[width][length][1]],[img[width][length][2]]])\n",
    "            likelihood = 1/(math.sqrt(((2*math.pi)**3)* np.linalg.det(cov))) * math.exp((-0.5)*(curr_pixel-mean).T @ np.linalg.inv(cov)@ (curr_pixel-mean))\n",
    "            #print(\"likelihood\", likelihood)\n",
    "            likelihood_list.append(likelihood)\n",
    "            if (likelihood * prior < tau):\n",
    "                mask[width][length] = 1\n",
    "    #print(likelihood_list)\n",
    "    if (likelihood * prior < tau):\n",
    "        mask[width][length] = 1\n",
    "\n",
    "    print(\"end element-wise algorithm, start vectorized algorithm\", datetime.now().strftime(\"%H:%M:%S\"))\n",
    "    \"\"\"\n",
    "    \n",
    "    # vectorized algorithm\n",
    "    mean, cov = cal_mean_cov_vectorized(X)    \n",
    "    \n",
    "    # calculate likelihood using gaussian distribution\n",
    "    # each pixel is row of X\n",
    "    constant_in_likelihood = 1/(math.sqrt(((2*math.pi)**3)* np.linalg.det(cov))) \n",
    "    sigma_inv = np.linalg.inv(cov)\n",
    "    X2 = X-mean\n",
    "    exponent = (-0.5)*(np.dot(X2, sigma_inv) * X2).sum(1) \n",
    "    likelihood = constant_in_likelihood * np.exp(exponent)\n",
    "    \n",
    "    # posterior\n",
    "    prior = 0.5\n",
    "    posterior = prior* likelihood \n",
    "    \n",
    "    # mask\n",
    "    mask = posterior\n",
    "    mask[mask < tau] = -1 # temperarily mark as -1 to prevent being marked as 0 later\n",
    "    mask[mask != -1] = 0\n",
    "    mask[mask == -1] = 1\n",
    "    mask = mask.reshape(l, w) # reshape back to 2D image\n",
    "    # print(\"end vectorized algorithm\", datetime.now().strftime(\"%H:%M:%S\"))\n",
    "\n",
    "    ##  show mask    \n",
    "    three_d_mask = np.stack((mask,mask,mask),axis=2)\n",
    "    masked_img = np.multiply(three_d_mask, img)\n",
    "    image_name = os.path.join(output_dir,\"masked_\"+ str(img_name))\n",
    "    cv2.imshow(image_name, masked_img)\n",
    "    cv2.waitKey(0)\n",
    "    print(\"Finish Generating mask for image \", str(img_name))\n",
    "print(\"Complete Process All Images\")\n",
    "\n",
    "\n"
   ]
  },
  {
   "cell_type": "code",
   "execution_count": 5,
   "metadata": {
    "pycharm": {
     "name": "#%%\n"
    }
   },
   "outputs": [
    {
     "data": {
      "text/plain": [
       "['single_gaussian_result', 'masked_train_imagesF.jpg']"
      ]
     },
     "execution_count": 5,
     "metadata": {},
     "output_type": "execute_result"
    }
   ],
   "source": [
    "v = \"single_gaussian_result\\masked_train_images\\106.jpg\"\n",
    "v.split('\\\\')"
   ]
  },
  {
   "cell_type": "code",
   "execution_count": 6,
   "metadata": {
    "pycharm": {
     "name": "#%%from scipy import random, linalg\n"
    }
   },
   "outputs": [
    {
     "name": "stdout",
     "output_type": "stream",
     "text": [
      "random positive semi-define matrix for today is [[1.69268442 0.34390751 1.05759914]\n",
      " [0.34390751 0.11531918 0.22644026]\n",
      " [1.05759914 0.22644026 0.72508576]]\n"
     ]
    }
   ],
   "source": [
    "matrixSize = 3\n",
    "A = scipy.random.rand(matrixSize,matrixSize)\n",
    "B = np.dot(A,A.transpose())\n",
    "print ('random positive semi-define matrix for today is', B)\n"
   ]
  },
  {
   "cell_type": "code",
   "execution_count": null,
   "metadata": {
    "pycharm": {
     "name": "#%%\n"
    }
   },
   "outputs": [],
   "source": []
  }
 ],
 "metadata": {
  "kernelspec": {
   "display_name": "Python 3",
   "language": "python",
   "name": "python3"
  },
  "language_info": {
   "codemirror_mode": {
    "name": "ipython",
    "version": 3
   },
   "file_extension": ".py",
   "mimetype": "text/x-python",
   "name": "python",
   "nbconvert_exporter": "python",
   "pygments_lexer": "ipython3",
   "version": "3.6.10"
  }
 },
 "nbformat": 4,
 "nbformat_minor": 1
}
