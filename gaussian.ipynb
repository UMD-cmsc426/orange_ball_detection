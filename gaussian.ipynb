{
 "cells": [
  {
   "cell_type": "markdown",
   "metadata": {
    "collapsed": true,
    "pycharm": {
     "name": "#%% md\n"
    }
   },
   "source": [
    "Cluster the orange ball using Single Guassian"
   ]
  },
  {
   "cell_type": "code",
   "execution_count": 1,
   "outputs": [],
   "source": [
    "# import packages\n",
    "import cv2\n",
    "import os\n",
    "import numpy as np\n",
    "import math"
   ],
   "metadata": {
    "collapsed": false,
    "pycharm": {
     "name": "#%%\n"
    }
   }
  },
  {
   "cell_type": "code",
   "execution_count": 2,
   "outputs": [],
   "source": [
    "def cal_mean_cov(img):\n",
    "    l, w, h = img.shape\n",
    "    mean = [[np.sum(img[:,:,0])/(l*w)],[np.sum(img[:,:,1])/(l*w)],[np.sum(img[:,:,2])/(l*w)]]\n",
    "    cov = np.zeros((3,3),)\n",
    "    #R_value = []\n",
    "    for width in range(len(img[:,0,0])):\n",
    "        for length in range(len(img[0,:,0])):\n",
    "            RGB_value = [[img[width][length][0]],[img[width][length][1]],[img[width][length][2]]]\n",
    "            cov = cov + (np.asmatrix(RGB_value) - np.asmatrix(mean))@(np.asmatrix(RGB_value) - np.asmatrix(mean)).T\n",
    "            #R_value.append(img[width][length][0])\n",
    "    cov = cov/(l*w)\n",
    "    #print(\"size of image: \", l*w)\n",
    "    #print(\"variance for R is: \", np.var(R_value))\n",
    "    return mean,cov"
   ],
   "metadata": {
    "collapsed": false,
    "pycharm": {
     "name": "#%%\n"
    }
   }
  },
  {
   "cell_type": "code",
   "execution_count": null,
   "outputs": [
    {
     "name": "stdout",
     "output_type": "stream",
     "text": [
      "cov: \n",
      " [[2781.61681836 2878.44650827 2934.94459974]\n",
      " [2878.44650827 3007.86237752 3083.16294443]\n",
      " [2934.94459974 3083.16294443 3227.16865765]]\n",
      "size of mask  (640, 480, 3)\n"
     ]
    }
   ],
   "source": [
    "# load data\n",
    "dir = \"train_images\" # path to the train image dataset\n",
    "# User defined threshold\n",
    "tau = 0.00002\n",
    "\n",
    "for img_name in os.listdir(dir):\n",
    "    img = cv2.imread(os.path.join(dir, img_name))\n",
    "    mean, cov = cal_mean_cov(img)\n",
    "    # creat a mask to indicate the position of ball\n",
    "    mask = np.zeros((img.shape[:-1]))\n",
    "    print(\"cov: \\n\", cov)\n",
    "    prior = 0.5\n",
    "    likelihood_list = []\n",
    "    for width in range(len(img[:,0,0])):\n",
    "        for length in range(len(img[0,:,0])):\n",
    "            curr_pixel = np.asmatrix([[img[width][length][0]],[img[width][length][1]],[img[width][length][2]]])\n",
    "            likelihood = 1/(math.sqrt(((2*math.pi)**3)* np.linalg.det(cov))) * math.exp((-0.5)*(curr_pixel-mean).T @ np.linalg.inv(cov)@ (curr_pixel-mean))\n",
    "            #print(\"likelihood\", likelihood)\n",
    "            likelihood_list.append(likelihood)\n",
    "            if (likelihood * prior > tau):\n",
    "                mask[width][length] = 1\n",
    "    ##  show mask\n",
    "    three_d_mask = np.asarray([mask,mask,mask])\n",
    "    three_d_mask = np.stack((mask,mask,mask),axis=2)\n",
    "    print(\"size of mask \", three_d_mask.shape)\n",
    "    cv2.imshow(\"image\", img)\n",
    "    cv2.waitKey(0)\n",
    "    print(\"max of likelihood \", max(likelihood_list))\n",
    "    break\n"
   ],
   "metadata": {
    "collapsed": false,
    "pycharm": {
     "name": "#%%\n",
     "is_executing": true
    }
   }
  },
  {
   "cell_type": "code",
   "source": [
    "mask = np.zeros((480,960))\n",
    "print(mask.shape)\n",
    "three_d_mask = np.stack((mask,mask,mask),axis=2)\n",
    "three_d_mask.shape"
   ],
   "metadata": {
    "collapsed": false,
    "pycharm": {
     "name": "#%%\n",
     "is_executing": true
    }
   },
   "execution_count": null,
   "outputs": []
  },
  {
   "cell_type": "code",
   "execution_count": null,
   "outputs": [],
   "source": [],
   "metadata": {
    "collapsed": false,
    "pycharm": {
     "name": "#%%\n"
    }
   }
  }
 ],
 "metadata": {
  "kernelspec": {
   "name": "pycharm-64c552b2",
   "language": "python",
   "display_name": "PyCharm (homework1)"
  },
  "language_info": {
   "codemirror_mode": {
    "name": "ipython",
    "version": 2
   },
   "file_extension": ".py",
   "mimetype": "text/x-python",
   "name": "python",
   "nbconvert_exporter": "python",
   "pygments_lexer": "ipython2",
   "version": "2.7.6"
  }
 },
 "nbformat": 4,
 "nbformat_minor": 0
}