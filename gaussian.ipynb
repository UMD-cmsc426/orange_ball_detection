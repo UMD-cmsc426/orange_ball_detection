{
 "cells": [
  {
   "cell_type": "markdown",
   "metadata": {
    "collapsed": true,
    "pycharm": {
     "name": "#%% md\n"
    }
   },
   "source": [
    "Cluster the orange ball using Single Guassian"
   ]
  },
  {
   "cell_type": "code",
   "execution_count": 1,
   "outputs": [],
   "source": [
    "# import packages\n",
    "import cv2\n",
    "import os\n",
    "import numpy as np"
   ],
   "metadata": {
    "collapsed": false,
    "pycharm": {
     "name": "#%%\n"
    }
   }
  },
  {
   "cell_type": "code",
   "execution_count": 5,
   "outputs": [],
   "source": [
    "def cal_mean_cov(img):\n",
    "    l, w, h = img.shape\n",
    "    mean = [[np.sum(img[:,:,0])/(l*w)],[np.sum(img[:,:,1])/(l*w)],[np.sum(img[:,:,2])/(l*w)]]\n",
    "    cov = np.zeros((3,3),)\n",
    "    for width in range(len(img[:,0,0])):\n",
    "        for length in range(len(img[0,:,0])):\n",
    "            RGB_value = [[img[width][length][0]],[img[width][length][1]],[img[width][length][2]]]\n",
    "            #print(\"RGB value \\n\", RGB_value)\n",
    "            cov = cov + (np.asmatrix(RGB_value) - np.asmatrix(mean))@(np.asmatrix(RGB_value) - np.asmatrix(mean)).T\n",
    "            # print((np.asmatrix(RGB_value) - np.asmatrix(mean))@(np.asmatrix(RGB_value) - np.asmatrix(mean)).T)\n",
    "            # print(\"cov\", cov)\n",
    "    cov = cov/(l*w)\n",
    "    return mean,cov"
   ],
   "metadata": {
    "collapsed": false,
    "pycharm": {
     "name": "#%%\n"
    }
   }
  },
  {
   "cell_type": "code",
   "execution_count": 7,
   "outputs": [
    {
     "name": "stdout",
     "output_type": "stream",
     "text": [
      "cov: \n",
      " [[2781.61681836 2878.44650827 2934.94459974]\n",
      " [2878.44650827 3007.86237752 3083.16294443]\n",
      " [2934.94459974 3083.16294443 3227.16865765]]\n"
     ]
    }
   ],
   "source": [
    "# load data\n",
    "dir = \"train_images\" # path to the train image dataset\n",
    "# User defined threshold\n",
    "tau = 2\n",
    "\n",
    "for img_name in os.listdir(dir):\n",
    "    img = cv2.imread(os.path.join(dir, img_name))\n",
    "    mean, cov = cal_mean_cov(img)\n",
    "    print(\"cov: \\n\", cov)\n",
    "    break"
   ],
   "metadata": {
    "collapsed": false,
    "pycharm": {
     "name": "#%%\n"
    }
   }
  },
  {
   "cell_type": "code",
   "execution_count": 41,
   "outputs": [],
   "source": [],
   "metadata": {
    "collapsed": false,
    "pycharm": {
     "name": "#%%\n"
    }
   }
  },
  {
   "cell_type": "code",
   "execution_count": null,
   "outputs": [],
   "source": [],
   "metadata": {
    "collapsed": false,
    "pycharm": {
     "name": "#%%\n"
    }
   }
  }
 ],
 "metadata": {
  "kernelspec": {
   "name": "pycharm-64c552b2",
   "language": "python",
   "display_name": "PyCharm (homework1)"
  },
  "language_info": {
   "codemirror_mode": {
    "name": "ipython",
    "version": 2
   },
   "file_extension": ".py",
   "mimetype": "text/x-python",
   "name": "python",
   "nbconvert_exporter": "python",
   "pygments_lexer": "ipython2",
   "version": "2.7.6"
  }
 },
 "nbformat": 4,
 "nbformat_minor": 0
}