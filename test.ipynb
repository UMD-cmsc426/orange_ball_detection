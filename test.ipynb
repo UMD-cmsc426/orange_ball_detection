{
 "cells": [
  {
   "cell_type": "code",
   "execution_count": 4,
   "metadata": {
    "collapsed": true
   },
   "outputs": [],
   "source": [
    "import os\n",
    "import cv2\n",
    "import numpy as np\n",
    "import random\n",
    "import sys"
   ]
  },
  {
   "cell_type": "code",
   "execution_count": 11,
   "outputs": [],
   "source": [
    "def trainGMM(K, img, max_iter):\n",
    "    # user defined converge threshold\n",
    "    converge_criteria = 0\n",
    "\n",
    "    def initialize():\n",
    "        random_w = random.randint(0,img.shape[0])\n",
    "        random_h = random.randint(0,img.shape[1])\n",
    "        mean = [[img[random_w][random_h][0]],[img[random_w][random_h][1]],[img[random_w][random_h][2]]]\n",
    "        # generate a random positive-semidefinete matrix as covariance matrix\n",
    "        A = np.random.randint(1,50,(3,3))\n",
    "        cov = np.dot(A, A.transpose())\n",
    "        scaling = random.randint(1,10)\n",
    "        return [scaling,mean,cov]\n",
    "\n",
    "    params = [initialize() for cluster in range(K)]\n",
    "    print(np.asarray(params).shape)\n",
    "    print(\"parameters: \", params)\n",
    "    # Structure of para:\n",
    "    # [[scale,mean,covariance],[scale,mean,covariance],[scale,mean,covariance]...]\n",
    "    # scale is a int. Mean is a 3x1 matrix. Covariace is a 3x3 matrix"
   ],
   "metadata": {
    "collapsed": false,
    "pycharm": {
     "name": "#%%\n"
    }
   }
  },
  {
   "cell_type": "code",
   "execution_count": null,
   "outputs": [],
   "source": [
    "    sum_means = 0\n",
    "    sum_prev_means = 0\n",
    "    iter = 0\n",
    "    while iter <= max_iter and abs(sum_means - sum_prev_means) > converge_criteria:\n",
    "    # TODO: define sum_means and sum_prev_means\n",
    "    # Expectation step - assign points to clusters, get cluster weight\n",
    "    weights = []\n",
    "    for cluster in range(K):\n",
    "        cluster_weights = []\n",
    "        cluster_scaling, cluster_mean, cluster_cov = params[cluster]\n",
    "        sys.exit()\n",
    "        for w in range(len(img[:, 0, 0])):\n",
    "            for h in range(len(img[0, :, 0])):\n",
    "                pix = np.asmatrix([[img[w][h][0]], [img[w][h][1]], [img[w][h][2]]])\n",
    "                likelihood = testGMM.get_likelihood(pix, cluster_mean, cluster_cov)\n",
    "                denom = 0\n",
    "\n",
    "                for k in range(K):\n",
    "                    k_scaling, k_mean, k_cov = params[cluster]\n",
    "                    k_likelihood = testGMM.get_likelihood(pix, k_mean, k_cov)\n",
    "                    denom += k_scaling * k_likelihood\n",
    "\n",
    "                weight = cluster_scaling * likelihood / denom\n",
    "                cluster_weights.append(weight) # probability of each pixel belonging to this cluster\n",
    "        weights.append(cluster_weights) # weights for all clusters 1 to K,\n",
    "        # weights[i][j]is the probability of the jth pixel belonging to the ith cluster\n",
    "\n",
    "\n",
    "\n",
    "\n"
   ],
   "metadata": {
    "collapsed": false,
    "pycharm": {
     "name": "#%%\n"
    }
   }
  },
  {
   "cell_type": "code",
   "execution_count": 12,
   "outputs": [
    {
     "name": "stdout",
     "output_type": "stream",
     "text": [
      "notebook, 325\n",
      "(5, 3)\n",
      "parameters:  [[1, [[61], [54], [45]], array([[  94,  285,  481],\n",
      "       [ 285, 3077, 1407],\n",
      "       [ 481, 1407, 2526]])], [8, [[116], [124], [124]], array([[1869, 1775, 1933],\n",
      "       [1775, 3086, 3114],\n",
      "       [1933, 3114, 3171]])], [8, [[164], [171], [174]], array([[ 181,  934,  501],\n",
      "       [ 934, 5208, 2442],\n",
      "       [ 501, 2442, 1805]])], [9, [[87], [78], [68]], array([[3141,  744, 2140],\n",
      "       [ 744,  441,  450],\n",
      "       [2140,  450, 1480]])], [1, [[207], [209], [209]], array([[1809,  742,  991],\n",
      "       [ 742, 1260, 1560],\n",
      "       [ 991, 1560, 3426]])]]\n"
     ]
    }
   ],
   "source": [
    "input_dir = \"train_images\"\n",
    "for img_name in os.listdir(input_dir):\n",
    "    img = cv2.imread(os.path.join(input_dir, img_name))\n",
    "    random_w = random.randint(0,img.shape[0])\n",
    "    print(\"notebook,\", random_w)\n",
    "    trainGMM(5,img,200)\n",
    "    break"
   ],
   "metadata": {
    "collapsed": false,
    "pycharm": {
     "name": "#%% testing below\n"
    }
   }
  },
  {
   "cell_type": "code",
   "execution_count": null,
   "outputs": [],
   "source": [],
   "metadata": {
    "collapsed": false,
    "pycharm": {
     "name": "#%%\n"
    }
   }
  }
 ],
 "metadata": {
  "kernelspec": {
   "name": "pycharm-64c552b2",
   "language": "python",
   "display_name": "PyCharm (homework1)"
  },
  "language_info": {
   "codemirror_mode": {
    "name": "ipython",
    "version": 2
   },
   "file_extension": ".py",
   "mimetype": "text/x-python",
   "name": "python",
   "nbconvert_exporter": "python",
   "pygments_lexer": "ipython2",
   "version": "2.7.6"
  }
 },
 "nbformat": 4,
 "nbformat_minor": 0
}