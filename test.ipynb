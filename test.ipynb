{
 "cells": [
  {
   "cell_type": "code",
   "execution_count": 1,
   "metadata": {
    "collapsed": true
   },
   "outputs": [],
   "source": [
    "import os\n",
    "import cv2\n",
    "import numpy as np\n",
    "import random\n",
    "import sys\n",
    "import testGMM"
   ]
  },
  {
   "cell_type": "code",
   "execution_count": 4,
   "outputs": [],
   "source": [
    "def trainGMM(K, img, max_iter):\n",
    "    # user defined converge threshold\n",
    "    tau = 0.00000000000000001\n",
    "\n",
    "    def initialize():\n",
    "        random_w = random.randint(0,img.shape[0])\n",
    "        random_h = random.randint(0,img.shape[1])\n",
    "        mean = [[img[random_w][random_h][0]],[img[random_w][random_h][1]],[img[random_w][random_h][2]]]\n",
    "        # generate a random positive-semidefinete matrix as covariance matrix\n",
    "        A = np.random.randint(1,50,(3,3))\n",
    "        cov = np.dot(A, A.transpose())\n",
    "        scaling = random.random() * 10.0\n",
    "        return [scaling,mean,cov]\n",
    "\n",
    "    params = [initialize() for cluster in range(K)]\n",
    "    # Structure of para:\n",
    "    # [[scale,mean,covariance],[scale,mean,covariance],[scale,mean,covariance]...]\n",
    "    # scale is a int. Mean is a 3x1 matrix. Covariance is a 3x3 matrix\n",
    "\n",
    "    # total_mean is the sum of all mean from different clusters\n",
    "    total_mean = np.asmatrix([[-9999],[-9999],[-9999]])\n",
    "    prev_total_mean = np.asmatrix([[9999],[9999],[9999]])\n",
    "    iter = 0\n",
    "    while iter <= max_iter and np.linalg.norm(total_mean - prev_total_mean) > tau:\n",
    "        # update prev total mean\n",
    "        prev_total_mean = total_mean\n",
    "\n",
    "        # Expectation step - assign points to clusters, get cluster weight\n",
    "        weights = []\n",
    "        for cluster in range(K):\n",
    "            # weight for a single cluster\n",
    "            cluster_weights = np.zeros((img.shape[0], img.shape[1]))\n",
    "            # cumulated weights add up all weights on a given pixel -- serving as denominator\n",
    "            cumulated_weights = np.zeros((img.shape[0], img.shape[1]))\n",
    "            cluster_scaling, cluster_mean, cluster_cov = params[cluster]\n",
    "\n",
    "            for w in range(len(img[:, 0, 0])):\n",
    "                for h in range(len(img[0, :, 0])):\n",
    "                    pix = np.asmatrix([[img[w][h][0]], [img[w][h][1]], [img[w][h][2]]])\n",
    "                    likelihood = testGMM.get_likelihood(pix, cluster_mean, cluster_cov)\n",
    "\n",
    "                    ## calculate weight at position (w, h)\n",
    "                    weight = cluster_scaling * likelihood\n",
    "                    cumulated_weights[w][h] += weight\n",
    "                    cluster_weights[w][h] = weight # probability of each pixel belonging to this cluster\n",
    "\n",
    "            weights.append(cluster_weights) # weights for all clusters 1 to K,\n",
    "            #weights[i][w][h]is the probability of the (w,h) pixel belonging to the ith cluster\n",
    "        for cluster in range(K):\n",
    "            weights[cluster] = np.divide(weights[cluster], cumulated_weights)\n",
    "\n",
    "        # Maximization step - get new scaling, mean, and cov for each cluster\n",
    "        for cluster in range(K):\n",
    "            mean_sum = np.zeros((3,1)) # sums all weight*pixel RGB value on image\n",
    "            cov_sum = np.zeros((3,3))\n",
    "            sum_weights = sum(weights[cluster]) # sum of all the weights given a cluster\n",
    "            for w in range(len(img[:, 0, 0])):\n",
    "                for h in range(len(img[0, :, 0])):\n",
    "                    pix = np.asmatrix([[img[w][h][0]], [img[w][h][1]], [img[w][h][2]]])\n",
    "                    # calculate mean\n",
    "                    mean_sum += np.multiply(weights[cluster][w][h],pix)\n",
    "\n",
    "            new_mean = np.divide(mean_sum, sum_weights)\n",
    "\n",
    "            for w in range(len(img[:, 0, 0])):\n",
    "                for h in range(len(img[0, :, 0])):\n",
    "                    pix = np.asmatrix([[img[w][h][0]], [img[w][h][1]], [img[w][h][2]]])\n",
    "                    # calculate covariance\n",
    "                    cov_sum += np.multiply(weights[cluster][w][h], (pix - new_mean))@((pix - new_mean).T)\n",
    "            new_cov = np.divide(cov_sum, sum_weights)\n",
    "            new_scaling = sum_weights / (img.shape[0]*img.shape[1])\n",
    "            mean_sum += mean_sum\n",
    "            # update model\n",
    "            params[cluster] = (new_scaling, new_mean, new_cov)\n",
    "        iter += 1\n",
    "\n",
    "\n",
    "\n"
   ],
   "metadata": {
    "collapsed": false,
    "pycharm": {
     "name": "#%%\n"
    }
   }
  },
  {
   "cell_type": "code",
   "execution_count": 5,
   "outputs": [
    {
     "ename": "ZeroDivisionError",
     "evalue": "float division by zero",
     "output_type": "error",
     "traceback": [
      "\u001B[1;31m---------------------------------------------------------------------------\u001B[0m",
      "\u001B[1;31mZeroDivisionError\u001B[0m                         Traceback (most recent call last)",
      "\u001B[1;32m<ipython-input-5-e8534ba5ba8e>\u001B[0m in \u001B[0;36m<module>\u001B[1;34m\u001B[0m\n\u001B[0;32m      2\u001B[0m \u001B[1;32mfor\u001B[0m \u001B[0mimg_name\u001B[0m \u001B[1;32min\u001B[0m \u001B[0mos\u001B[0m\u001B[1;33m.\u001B[0m\u001B[0mlistdir\u001B[0m\u001B[1;33m(\u001B[0m\u001B[0minput_dir\u001B[0m\u001B[1;33m)\u001B[0m\u001B[1;33m:\u001B[0m\u001B[1;33m\u001B[0m\u001B[1;33m\u001B[0m\u001B[0m\n\u001B[0;32m      3\u001B[0m     \u001B[0mimg\u001B[0m \u001B[1;33m=\u001B[0m \u001B[0mcv2\u001B[0m\u001B[1;33m.\u001B[0m\u001B[0mimread\u001B[0m\u001B[1;33m(\u001B[0m\u001B[0mos\u001B[0m\u001B[1;33m.\u001B[0m\u001B[0mpath\u001B[0m\u001B[1;33m.\u001B[0m\u001B[0mjoin\u001B[0m\u001B[1;33m(\u001B[0m\u001B[0minput_dir\u001B[0m\u001B[1;33m,\u001B[0m \u001B[0mimg_name\u001B[0m\u001B[1;33m)\u001B[0m\u001B[1;33m)\u001B[0m\u001B[1;33m\u001B[0m\u001B[1;33m\u001B[0m\u001B[0m\n\u001B[1;32m----> 4\u001B[1;33m     \u001B[0mtrainGMM\u001B[0m\u001B[1;33m(\u001B[0m\u001B[1;36m5\u001B[0m\u001B[1;33m,\u001B[0m\u001B[0mimg\u001B[0m\u001B[1;33m,\u001B[0m\u001B[1;36m200\u001B[0m\u001B[1;33m)\u001B[0m\u001B[1;33m\u001B[0m\u001B[1;33m\u001B[0m\u001B[0m\n\u001B[0m\u001B[0;32m      5\u001B[0m     \u001B[1;32mbreak\u001B[0m\u001B[1;33m\u001B[0m\u001B[1;33m\u001B[0m\u001B[0m\n",
      "\u001B[1;32m<ipython-input-4-cae5af853f72>\u001B[0m in \u001B[0;36mtrainGMM\u001B[1;34m(K, img, max_iter)\u001B[0m\n\u001B[0;32m     64\u001B[0m                         \u001B[0mdenom\u001B[0m \u001B[1;33m+=\u001B[0m \u001B[0mk_scaling\u001B[0m \u001B[1;33m*\u001B[0m \u001B[0mk_likelihood\u001B[0m\u001B[1;33m\u001B[0m\u001B[1;33m\u001B[0m\u001B[0m\n\u001B[0;32m     65\u001B[0m \u001B[1;33m\u001B[0m\u001B[0m\n\u001B[1;32m---> 66\u001B[1;33m                     \u001B[0mweight\u001B[0m \u001B[1;33m=\u001B[0m \u001B[0mcluster_scaling\u001B[0m \u001B[1;33m*\u001B[0m \u001B[0mlikelihood\u001B[0m \u001B[1;33m/\u001B[0m \u001B[0mdenom\u001B[0m\u001B[1;33m\u001B[0m\u001B[1;33m\u001B[0m\u001B[0m\n\u001B[0m\u001B[0;32m     67\u001B[0m                     \u001B[0mcluster_weights\u001B[0m\u001B[1;33m.\u001B[0m\u001B[0mappend\u001B[0m\u001B[1;33m(\u001B[0m\u001B[0mweight\u001B[0m\u001B[1;33m)\u001B[0m \u001B[1;31m# probability of each pixel belonging to this cluster\u001B[0m\u001B[1;33m\u001B[0m\u001B[1;33m\u001B[0m\u001B[0m\n\u001B[0;32m     68\u001B[0m             \u001B[0mweights\u001B[0m\u001B[1;33m.\u001B[0m\u001B[0mappend\u001B[0m\u001B[1;33m(\u001B[0m\u001B[0mcluster_weights\u001B[0m\u001B[1;33m)\u001B[0m \u001B[1;31m# weights for all clusters 1 to K,\u001B[0m\u001B[1;33m\u001B[0m\u001B[1;33m\u001B[0m\u001B[0m\n",
      "\u001B[1;31mZeroDivisionError\u001B[0m: float division by zero"
     ]
    }
   ],
   "source": [
    "input_dir = \"train_images\"\n",
    "for img_name in os.listdir(input_dir):\n",
    "    img = cv2.imread(os.path.join(input_dir, img_name))\n",
    "    trainGMM(5,img,200)\n",
    "    break"
   ],
   "metadata": {
    "collapsed": false,
    "pycharm": {
     "name": "#%% testing below\n"
    }
   }
  },
  {
   "cell_type": "code",
   "execution_count": 13,
   "outputs": [
    {
     "data": {
      "text/plain": "5.0"
     },
     "execution_count": 13,
     "metadata": {},
     "output_type": "execute_result"
    }
   ],
   "source": [
    "A = [[4],[3]]\n",
    "B = [[1],[0]]\n",
    "np.linalg.norm(A)"
   ],
   "metadata": {
    "collapsed": false,
    "pycharm": {
     "name": "#%%\n"
    }
   }
  },
  {
   "cell_type": "code",
   "execution_count": null,
   "outputs": [],
   "source": [],
   "metadata": {
    "collapsed": false,
    "pycharm": {
     "name": "#%%\n"
    }
   }
  }
 ],
 "metadata": {
  "kernelspec": {
   "name": "pycharm-64c552b2",
   "language": "python",
   "display_name": "PyCharm (homework1)"
  },
  "language_info": {
   "codemirror_mode": {
    "name": "ipython",
    "version": 2
   },
   "file_extension": ".py",
   "mimetype": "text/x-python",
   "name": "python",
   "nbconvert_exporter": "python",
   "pygments_lexer": "ipython2",
   "version": "2.7.6"
  }
 },
 "nbformat": 4,
 "nbformat_minor": 0
}