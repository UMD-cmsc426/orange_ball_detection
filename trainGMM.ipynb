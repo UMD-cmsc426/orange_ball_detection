{
 "cells": [
  {
   "cell_type": "code",
   "execution_count": 5,
   "metadata": {
    "collapsed": true
   },
   "outputs": [],
   "source": [
    "import os\n",
    "import cv2\n",
    "import numpy as np\n",
    "import random\n",
    "import sys\n",
    "import testGMM\n",
    "import re\n",
    "import copy"
   ]
  },
  {
   "cell_type": "code",
   "execution_count": 6,
   "outputs": [],
   "source": [
    "# parameters:\n",
    "# k: int, number of guassian distribution\n",
    "# max_iter: int, maximum number of step in optimization\n",
    "# img_name: strings, the relative path to single image, i.e. \"train_images/032.jpg\"\n",
    "def trainGMM(K, max_iter, img_name):\n",
    "    # read img\n",
    "    img = cv2.imread(img_name)\n",
    "    # user defined converge threshold\n",
    "    tau = 0.00000000000000001\n",
    "\n",
    "    def initialize():\n",
    "        mean = np.asmatrix([[random.randint(1, 255)],[random.randint(1, 255)],[random.randint(1, 255)]])\n",
    "        # generate a random positive-semidefinete matrix as covariance matrix\n",
    "        A = np.random.random((3,3))*20\n",
    "        cov = np.dot(A, A.transpose())\n",
    "        scaling = random.random() * 5.0\n",
    "        return [scaling,mean,cov]\n",
    "\n",
    "    params = [initialize() for cluster in range(K)]\n",
    "    # Structure of para:\n",
    "    # [[scale,mean,covariance],[scale,mean,covariance],[scale,mean,covariance]...]\n",
    "    # scale is a int. Mean is a 3x1 matrix. Covariance is a 3x3 matrix\n",
    "\n",
    "    # total_mean is the sum of all mean from different clusters\n",
    "    total_mean = np.full((K,3, 3), -9999)\n",
    "    prev_total_mean = np.full((K,3, 3), 9999)\n",
    "    iter = 0\n",
    "\n",
    "    # return true if MLE converges. Return false otherwise\n",
    "    def check_convergence(total_mean, prev_toal_mean, tau):\n",
    "        sum = 0\n",
    "        print(\"For cluster 1, total_mean and Prev_total_mean are as follow\\n\")\n",
    "        print(\"curr mean: \", total_mean[0])\n",
    "        print(\"prev mean: \", prev_total_mean[0])\n",
    "        for cluster in range(len(prev_toal_mean)):\n",
    "            sum += np.linalg.norm(total_mean[cluster]-prev_total_mean[cluster])\n",
    "        print(\"Check convergence difference: \", sum)\n",
    "        return sum >= tau\n",
    "\n",
    "    while iter < max_iter and check_convergence(total_mean,prev_total_mean,tau):\n",
    "        print(\"iter: \", iter)\n",
    "        # update prev total mean\n",
    "        prev_total_mean = copy.deepcopy(total_mean)\n",
    "\n",
    "        # Expectation step - assign points to clusters, get cluster weight\n",
    "        weights = [ [] for _ in range(K) ]\n",
    "        for cluster in range(K):\n",
    "            # weight for a single cluster\n",
    "            cluster_weights = np.zeros((img.shape[0], img.shape[1]))\n",
    "            # cumulated weights add up all weights on a given pixel -- serving as denominator\n",
    "            cumulated_weights = np.zeros((img.shape[0], img.shape[1]))\n",
    "            cluster_scaling, cluster_mean, cluster_cov = params[cluster]\n",
    "            # print(\"Current scaliing for cluster \", cluster_scaling)\n",
    "            # print(\"Current mean for cluster \", cluster_mean)\n",
    "            # print(\"Current cov for cluster \\n\", cluster_cov)\n",
    "\n",
    "\n",
    "            for w in range(len(img[:, 0, 0])):\n",
    "                for h in range(len(img[0, :, 0])):\n",
    "                    pix = np.asmatrix([[img[w][h][0]], [img[w][h][1]], [img[w][h][2]]])\n",
    "                    try:\n",
    "                        likelihood = testGMM.get_likelihood(pix, cluster_mean, cluster_cov)\n",
    "                    except:\n",
    "                        likelihood = 0\n",
    "                    likelihood = likelihood if likelihood != 0 else sys.float_info.min\n",
    "                    # if likelihood == 0:\n",
    "                    #     print(\"likelihood is zero\")\n",
    "                    #     print(\"curr_pix: \\n\",pix)\n",
    "                    #     print(\"cluster_mean: \\n\", cluster_mean)\n",
    "                    #     print(\"cluster cov: \\n\", cluster_cov)\n",
    "                    #     sys.exit()\n",
    "                    ## calculate weight at position (w, h)\n",
    "                    weight = cluster_scaling * likelihood\n",
    "                    cumulated_weights[w][h] += weight\n",
    "                    cluster_weights[w][h] = weight # probability of each pixel belonging to this cluster\n",
    "\n",
    "            weights[cluster] = cluster_weights # weights for all clusters 1 to K,\n",
    "            #weights[i][w][h]is the probability of the (w,h) pixel belonging to the ith cluster\n",
    "        for cluster in range(K):\n",
    "            weights[cluster] = np.divide(weights[cluster], cumulated_weights)\n",
    "\n",
    "        # Maximization step - get new scaling, mean, and cov for each cluster\n",
    "        for cluster in range(K):\n",
    "            mean_sum = np.zeros((3,1)) # sums all weight*pixel RGB value on image\n",
    "            cov_sum = np.zeros((3,3))\n",
    "            sum_weights = np.sum(weights[cluster]) # sum of all the weights given a cluster\n",
    "            for w in range(len(img[:, 0, 0])):\n",
    "                for h in range(len(img[0, :, 0])):\n",
    "                    pix = np.asmatrix([[img[w][h][0]], [img[w][h][1]], [img[w][h][2]]])\n",
    "                    # calculate mean\n",
    "                    mean_sum += np.multiply(weights[cluster][w][h],pix)\n",
    "\n",
    "            new_mean = np.divide(mean_sum, sum_weights)\n",
    "\n",
    "            for w in range(len(img[:, 0, 0])):\n",
    "                for h in range(len(img[0, :, 0])):\n",
    "                    pix = np.asmatrix([[img[w][h][0]], [img[w][h][1]], [img[w][h][2]]])\n",
    "                    # calculate covariance\n",
    "                    cov_sum += np.multiply(weights[cluster][w][h], (pix - new_mean))@((pix - new_mean).T)\n",
    "            new_cov = np.divide(cov_sum, sum_weights)\n",
    "            new_scaling = sum_weights / (img.shape[0]*img.shape[1])\n",
    "            mean_sum += mean_sum\n",
    "\n",
    "            total_mean[cluster] = new_mean\n",
    "            print(\"new mean at cluster \", cluster, \"is \", new_mean )\n",
    "            # update model\n",
    "            params[cluster] = (new_scaling, new_mean, new_cov)\n",
    "        print(\"-----------------\")\n",
    "        iter += 1\n",
    "    # store weights to .npy\n",
    "    if not os.path.exists(\"weights\"):\n",
    "        os.mkdir(\"weights\")\n",
    "    else:\n",
    "        digit = re.findall(r'\\d+\\d+\\d*',img_name)\n",
    "        file_name = str(digit[0])+\"_weight.npy\"\n",
    "        with open(os.path.join(\"weights\",file_name), \"wb\") as f:\n",
    "            np.save(f,params)"
   ],
   "metadata": {
    "collapsed": false,
    "pycharm": {
     "name": "#%%\n"
    }
   }
  },
  {
   "cell_type": "code",
   "execution_count": 7,
   "outputs": [
    {
     "name": "stdout",
     "output_type": "stream",
     "text": [
      "For cluster 1, total_mean and Prev_total_mean are as follow\n",
      "\n",
      "curr mean:  [[-9999 -9999 -9999]\n",
      " [-9999 -9999 -9999]\n",
      " [-9999 -9999 -9999]]\n",
      "prev mean:  [[9999 9999 9999]\n",
      " [9999 9999 9999]\n",
      " [9999 9999 9999]]\n",
      "Check convergence difference:  119988.0\n",
      "iter:  0\n",
      "new mean at cluster  0 is  [[nan]\n",
      " [nan]\n",
      " [nan]]\n",
      "new mean at cluster  1 is  [[134.68095703]\n",
      " [135.71245117]\n",
      " [134.6785026 ]]\n",
      "-----------------\n",
      "For cluster 1, total_mean and Prev_total_mean are as follow\n",
      "\n",
      "curr mean:  [[-2147483648 -2147483648 -2147483648]\n",
      " [-2147483648 -2147483648 -2147483648]\n",
      " [-2147483648 -2147483648 -2147483648]]\n",
      "prev mean:  [[-9999 -9999 -9999]\n",
      " [-9999 -9999 -9999]\n",
      " [-9999 -9999 -9999]]\n",
      "Check convergence difference:  6442451347.000032\n",
      "iter:  1\n",
      "new mean at cluster  0 is  [[nan]\n",
      " [nan]\n",
      " [nan]]\n",
      "new mean at cluster  1 is  [[134.68095703]\n",
      " [135.71245117]\n",
      " [134.6785026 ]]\n",
      "-----------------\n",
      "For cluster 1, total_mean and Prev_total_mean are as follow\n",
      "\n",
      "curr mean:  [[-2147483648 -2147483648 -2147483648]\n",
      " [-2147483648 -2147483648 -2147483648]\n",
      " [-2147483648 -2147483648 -2147483648]]\n",
      "prev mean:  [[-2147483648 -2147483648 -2147483648]\n",
      " [-2147483648 -2147483648 -2147483648]\n",
      " [-2147483648 -2147483648 -2147483648]]\n",
      "Check convergence difference:  0.0\n",
      "Finish Training for  train_images\\106.jpg\n"
     ]
    },
    {
     "name": "stderr",
     "output_type": "stream",
     "text": [
      "E:\\ProgramData\\Miniconda3\\envs\\cmsc426\\lib\\site-packages\\ipykernel_launcher.py:80: RuntimeWarning: overflow encountered in true_divide\n",
      "E:\\ProgramData\\Miniconda3\\envs\\cmsc426\\lib\\site-packages\\numpy\\core\\fromnumeric.py:87: RuntimeWarning: overflow encountered in reduce\n",
      "  return ufunc.reduce(obj, axis, dtype, out, **passkwargs)\n",
      "E:\\ProgramData\\Miniconda3\\envs\\cmsc426\\lib\\site-packages\\ipykernel_launcher.py:91: RuntimeWarning: overflow encountered in multiply\n",
      "E:\\ProgramData\\Miniconda3\\envs\\cmsc426\\lib\\site-packages\\ipykernel_launcher.py:93: RuntimeWarning: invalid value encountered in true_divide\n",
      "E:\\ProgramData\\Miniconda3\\envs\\cmsc426\\lib\\site-packages\\numpy\\linalg\\linalg.py:2159: RuntimeWarning: invalid value encountered in det\n",
      "  r = _umath_linalg.det(a, signature=signature)\n",
      "E:\\ProgramData\\Miniconda3\\envs\\cmsc426\\lib\\site-packages\\numpy\\core\\_asarray.py:136: VisibleDeprecationWarning: Creating an ndarray from ragged nested sequences (which is a list-or-tuple of lists-or-tuples-or ndarrays with different lengths or shapes) is deprecated. If you meant to do this, you must specify 'dtype=object' when creating the ndarray\n",
      "  return array(a, dtype, copy=False, order=order, subok=True)\n"
     ]
    }
   ],
   "source": [
    "input_dir = \"train_images\"\n",
    "for img_name in os.listdir(input_dir):\n",
    "    img = os.path.join(input_dir, img_name)\n",
    "    trainGMM(2,200,img)\n",
    "    print(\"Finish Training for \", img)\n",
    "    break"
   ],
   "metadata": {
    "collapsed": false,
    "pycharm": {
     "name": "#%% testing below\n"
    }
   }
  },
  {
   "cell_type": "markdown",
   "source": [
    "with open('weights/68_weight.npy', 'rb') as f:\n",
    "    a = np.load(f, allow_pickle=True)\n",
    "    print(a[2])"
   ],
   "metadata": {
    "collapsed": false,
    "pycharm": {
     "name": "#%% md\n"
    }
   }
  },
  {
   "cell_type": "code",
   "source": [
    "import testGMM\n",
    "import math\n",
    "pix = np.asmatrix([[157],[140],[121]])\n",
    "mean =  np.asmatrix([[6], [191], [140]])\n",
    "cov =  np.asmatrix([[1154 ,1497 ,1072], [1497, 2330 ,1198], [1072 ,1198, 1123]])\n",
    "likelihood = testGMM.get_likelihood(pix, mean, cov)\n",
    "print(\"likelihood: \", likelihood)\n",
    "print((-0.5) * (pix - mean).T @ np.linalg.inv(cov) @ (pix - mean))"
   ],
   "metadata": {
    "collapsed": false,
    "pycharm": {
     "name": "#%%\n"
    }
   },
   "execution_count": 8,
   "outputs": [
    {
     "name": "stdout",
     "output_type": "stream",
     "text": [
      "likelihood:  0.0\n",
      "[[-1346.9566598]]\n"
     ]
    }
   ]
  },
  {
   "cell_type": "code",
   "execution_count": 6,
   "outputs": [
    {
     "name": "stdout",
     "output_type": "stream",
     "text": [
      "[[], [[3], [2], [2]], []]\n"
     ]
    }
   ],
   "source": [
    "import numpy as np\n",
    "A = [ [] for _ in range(3) ]\n",
    "A[1] = [[3],[2],[2]]\n",
    "print(A)"
   ],
   "metadata": {
    "collapsed": false,
    "pycharm": {
     "name": "#%%\n"
    }
   }
  },
  {
   "cell_type": "code",
   "execution_count": null,
   "outputs": [],
   "source": [],
   "metadata": {
    "collapsed": false,
    "pycharm": {
     "name": "#%%\n"
    }
   }
  }
 ],
 "metadata": {
  "kernelspec": {
   "name": "pycharm-64c552b2",
   "language": "python",
   "display_name": "PyCharm (homework1)"
  },
  "language_info": {
   "codemirror_mode": {
    "name": "ipython",
    "version": 2
   },
   "file_extension": ".py",
   "mimetype": "text/x-python",
   "name": "python",
   "nbconvert_exporter": "python",
   "pygments_lexer": "ipython2",
   "version": "2.7.6"
  }
 },
 "nbformat": 4,
 "nbformat_minor": 0
}