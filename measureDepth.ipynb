{
 "cells": [
  {
   "cell_type": "code",
   "execution_count": 40,
   "metadata": {
    "collapsed": true
   },
   "outputs": [],
   "source": [
    "import cv2\n",
    "import os\n",
    "import re\n",
    "from scipy import optimize\n",
    "import matplotlib.pyplot as plt\n",
    "import numpy as np"
   ]
  },
  {
   "cell_type": "code",
   "execution_count": 6,
   "outputs": [],
   "source": [
    "GMM_dir = os.path.join(\"results\", \"GMM\")\n",
    "mask = cv2.imread(\"results/GMM/GMM_68.jpg\") # cv2 read img as BGR\n",
    "# cv2.imshow(\"mask\",mask)\n",
    "# cv2.waitKey()"
   ],
   "metadata": {
    "collapsed": false,
    "pycharm": {
     "name": "#%%\n"
    }
   }
  },
  {
   "cell_type": "code",
   "execution_count": 3,
   "outputs": [
    {
     "name": "stdout",
     "output_type": "stream",
     "text": [
      "here:  1708\n"
     ]
    }
   ],
   "source": [
    "# calculate orange pixels:\n",
    "mask = cv2.inRange(mask,(20,20,20),(240,240,240) )\n",
    "# cv2.imshow(\"mask\",mask)\n",
    "# cv2.waitKey()\n",
    "none_black_pixel = cv2.countNonZero(mask)\n",
    "print(\"here: \", none_black_pixel)"
   ],
   "metadata": {
    "collapsed": false,
    "pycharm": {
     "name": "#%%\n"
    }
   }
  },
  {
   "cell_type": "code",
   "execution_count": 4,
   "outputs": [
    {
     "data": {
      "text/plain": "-1"
     },
     "execution_count": 4,
     "metadata": {},
     "output_type": "execute_result"
    }
   ],
   "source": [
    "cv2.imshow(\"mask\",mask)\n",
    "cv2.waitKey(1)"
   ],
   "metadata": {
    "collapsed": false,
    "pycharm": {
     "name": "#%%\n"
    }
   }
  },
  {
   "cell_type": "code",
   "execution_count": 51,
   "outputs": [],
   "source": [
    "# GET a list of distance\n",
    "dis_list = []\n",
    "num_list= []\n",
    "\n",
    "for img_name in os.listdir(GMM_dir):\n",
    "    dis = int(re.search(r\"GMM_([0-9]+)\\.jpg\",img_name)[1])\n",
    "    mask = cv2.imread(os.path.join(GMM_dir, img_name))\n",
    "    num_pixel = cv2.countNonZero(cv2.inRange(mask,(20,20,20),(240,240,240) ))\n",
    "    dis_list.append(dis)\n",
    "    num_list.append(num_pixel)"
   ],
   "metadata": {
    "collapsed": false,
    "pycharm": {
     "name": "#%%\n"
    }
   }
  },
  {
   "cell_type": "code",
   "execution_count": 55,
   "outputs": [
    {
     "name": "stdout",
     "output_type": "stream",
     "text": [
      "parames:  [8.02226662e+06 1.00000000e+00]\n"
     ]
    },
    {
     "name": "stderr",
     "output_type": "stream",
     "text": [
      "E:\\ProgramData\\Miniconda3\\envs\\cmsc426\\lib\\site-packages\\scipy\\optimize\\minpack.py:829: OptimizeWarning: Covariance of the parameters could not be estimated\n",
      "  category=OptimizeWarning)\n"
     ]
    },
    {
     "data": {
      "text/plain": "<Figure size 432x288 with 1 Axes>",
      "image/png": "[encoded data removed]"
     },
     "metadata": {
      "needs_background": "light"
     },
     "output_type": "display_data"
    }
   ],
   "source": [
    "def inverse_square(x,a,b):\n",
    "    return a*(1/np.power(int(b)*x, 2))\n",
    "\n",
    "\n",
    "params, _ = optimize.curve_fit(inverse_square, dis_list,num_list)\n",
    "print(\"parames: \", params)\n",
    "plt.scatter(dis_list, num_list, label='Data')\n",
    "plt.plot(dis_list, inverse_square(dis_list, params[0],params[1]),\n",
    "         label='Fitted function')\n",
    "plt.legend(loc='best')\n",
    "\n",
    "plt.show()"
   ],
   "metadata": {
    "collapsed": false,
    "pycharm": {
     "name": "#%%\n"
    }
   }
  },
  {
   "cell_type": "code",
   "execution_count": null,
   "outputs": [],
   "source": [],
   "metadata": {
    "collapsed": false,
    "pycharm": {
     "name": "#%%\n"
    }
   }
  }
 ],
 "metadata": {
  "kernelspec": {
   "name": "pycharm-64c552b2",
   "language": "python",
   "display_name": "PyCharm (homework1)"
  },
  "language_info": {
   "codemirror_mode": {
    "name": "ipython",
    "version": 2
   },
   "file_extension": ".py",
   "mimetype": "text/x-python",
   "name": "python",
   "nbconvert_exporter": "python",
   "pygments_lexer": "ipython2",
   "version": "2.7.6"
  }
 },
 "nbformat": 4,
 "nbformat_minor": 0
}