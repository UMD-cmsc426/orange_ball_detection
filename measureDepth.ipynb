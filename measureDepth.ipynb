{
 "cells": [
  {
   "cell_type": "code",
   "execution_count": 74,
   "metadata": {},
   "outputs": [],
   "source": [
    "import cv2\n",
    "import os\n",
    "import re\n",
    "from scipy import optimize\n",
    "import matplotlib.pyplot as plt\n",
    "import numpy as np"
   ]
  },
  {
   "cell_type": "code",
   "execution_count": 75,
   "metadata": {
    "pycharm": {
     "name": "#%%\n"
    }
   },
   "outputs": [],
   "source": [
    "GMM_dir = os.path.join(\"results\", \"GMM\")\n",
    "mask = cv2.imread(\"results/GMM/GMM_68.jpg\") # cv2 read img as BGR\n",
    "# cv2.imshow(\"mask\",mask)\n",
    "# cv2.waitKey()"
   ]
  },
  {
   "cell_type": "code",
   "execution_count": 76,
   "metadata": {
    "pycharm": {
     "name": "#%%\n"
    }
   },
   "outputs": [
    {
     "name": "stdout",
     "output_type": "stream",
     "text": [
      "here:  1730\n"
     ]
    }
   ],
   "source": [
    "# calculate orange pixels:\n",
    "mask = cv2.inRange(mask,(20,20,20),(240,240,240) )\n",
    "# cv2.imshow(\"mask\",mask)\n",
    "# cv2.waitKey()\n",
    "none_black_pixel = cv2.countNonZero(mask)\n",
    "print(\"here: \", none_black_pixel)"
   ]
  },
  {
   "cell_type": "code",
   "execution_count": 77,
   "metadata": {
    "pycharm": {
     "name": "#%%\n"
    }
   },
   "outputs": [
    {
     "data": {
      "text/plain": [
       "-1"
      ]
     },
     "execution_count": 77,
     "metadata": {},
     "output_type": "execute_result"
    }
   ],
   "source": [
    "cv2.imshow(\"mask\",mask)\n",
    "cv2.waitKey(1)"
   ]
  },
  {
   "cell_type": "code",
   "execution_count": 78,
   "metadata": {
    "pycharm": {
     "name": "#%%\n"
    }
   },
   "outputs": [
    {
     "name": "stdout",
     "output_type": "stream",
     "text": [
      "[(143, 280), (144, 264), (160, 248), (163, 256), (194, 223), (205, 231), (206, 208), (219, 216), (228, 200), (270, 192), (302, 176), (317, 168), (359, 160), (387, 152), (421, 144), (439, 137), (595, 121), (640, 114), (686, 106), (799, 99), (996, 91), (1416, 76), (1730, 68)]\n"
     ]
    }
   ],
   "source": [
    "# GET a list of distance\n",
    "dis_list = []\n",
    "num_list= []\n",
    "\n",
    "for img_name in os.listdir(GMM_dir):\n",
    "    dis = int(re.search(r\"GMM_([0-9]+)\\.jpg\",img_name)[1])\n",
    "    mask = cv2.imread(os.path.join(GMM_dir, img_name))\n",
    "    num_pixel = cv2.countNonZero(cv2.inRange(mask,(20,20,20),(240,240,240) ))\n",
    "    dis_list.append(dis)\n",
    "    num_list.append(num_pixel)\n",
    "train_list = list(zip(num_list, dis_list))\n",
    "train_list.sort()"
   ]
  },
  {
   "cell_type": "code",
   "execution_count": 79,
   "metadata": {
    "pycharm": {
     "name": "#%%\n"
    }
   },
   "outputs": [
    {
     "name": "stdout",
     "output_type": "stream",
     "text": [
      "parames:  [3.53948784e+02 3.66995684e-05]\n"
     ]
    },
    {
     "name": "stderr",
     "output_type": "stream",
     "text": [
      "/Library/Frameworks/Python.framework/Versions/3.7/lib/python3.7/site-packages/ipykernel_launcher.py:2: RuntimeWarning: invalid value encountered in sqrt\n",
      "  \n"
     ]
    },
    {
     "data": {
      "image/png": "[encoded data removed]",
      "text/plain": [
       "<Figure size 432x288 with 1 Axes>"
      ]
     },
     "metadata": {
      "needs_background": "light"
     },
     "output_type": "display_data"
    }
   ],
   "source": [
    "def inverse_square(x,a,b):\n",
    "    return np.sqrt(a/b/x)\n",
    "\n",
    "params, _ = optimize.curve_fit(inverse_square, *zip(*train_list))\n",
    "print(\"parames: \", params)\n",
    "plt.scatter(*zip(*train_list), label='Data')\n",
    "plt.plot(list(zip(*train_list))[0], inverse_square(list(zip(*train_list))[0], params[0],params[1]), label='Fitted function')\n",
    "plt.legend(loc='best')\n",
    "\n",
    "plt.show()"
   ]
  },
  {
   "cell_type": "code",
   "execution_count": 83,
   "metadata": {
    "pycharm": {
     "name": "#%%\n"
    }
   },
   "outputs": [
    {
     "ename": "error",
     "evalue": "OpenCV(4.4.0) /private/var/folders/nz/vv4_9tw56nv9k3tkvyszvwg80000gn/T/pip-req-build-4jcifzim/opencv/modules/core/src/arithm.cpp:1743: error: (-215:Assertion failed) ! _src.empty() in function 'inRange'\n",
     "output_type": "error",
     "traceback": [
      "\u001b[0;31m---------------------------------------------------------------------------\u001b[0m",
      "\u001b[0;31merror\u001b[0m                                     Traceback (most recent call last)",
      "\u001b[0;32m<ipython-input-83-7e594078164b>\u001b[0m in \u001b[0;36m<module>\u001b[0;34m\u001b[0m\n\u001b[1;32m      4\u001b[0m \u001b[0;32mfor\u001b[0m \u001b[0mimg_name\u001b[0m \u001b[0;32min\u001b[0m \u001b[0mos\u001b[0m\u001b[0;34m.\u001b[0m\u001b[0mlistdir\u001b[0m\u001b[0;34m(\u001b[0m\u001b[0mtest_dir\u001b[0m\u001b[0;34m)\u001b[0m\u001b[0;34m:\u001b[0m\u001b[0;34m\u001b[0m\u001b[0;34m\u001b[0m\u001b[0m\n\u001b[1;32m      5\u001b[0m     \u001b[0mmask\u001b[0m \u001b[0;34m=\u001b[0m \u001b[0mcv2\u001b[0m\u001b[0;34m.\u001b[0m\u001b[0mimread\u001b[0m\u001b[0;34m(\u001b[0m\u001b[0mos\u001b[0m\u001b[0;34m.\u001b[0m\u001b[0mpath\u001b[0m\u001b[0;34m.\u001b[0m\u001b[0mjoin\u001b[0m\u001b[0;34m(\u001b[0m\u001b[0mtest_dir\u001b[0m\u001b[0;34m,\u001b[0m \u001b[0mimg_name\u001b[0m\u001b[0;34m)\u001b[0m\u001b[0;34m)\u001b[0m\u001b[0;34m\u001b[0m\u001b[0;34m\u001b[0m\u001b[0m\n\u001b[0;32m----> 6\u001b[0;31m     \u001b[0mnum_pixel\u001b[0m \u001b[0;34m=\u001b[0m \u001b[0mcv2\u001b[0m\u001b[0;34m.\u001b[0m\u001b[0mcountNonZero\u001b[0m\u001b[0;34m(\u001b[0m\u001b[0mcv2\u001b[0m\u001b[0;34m.\u001b[0m\u001b[0minRange\u001b[0m\u001b[0;34m(\u001b[0m\u001b[0mmask\u001b[0m\u001b[0;34m,\u001b[0m\u001b[0;34m(\u001b[0m\u001b[0;36m20\u001b[0m\u001b[0;34m,\u001b[0m\u001b[0;36m20\u001b[0m\u001b[0;34m,\u001b[0m\u001b[0;36m20\u001b[0m\u001b[0;34m)\u001b[0m\u001b[0;34m,\u001b[0m\u001b[0;34m(\u001b[0m\u001b[0;36m240\u001b[0m\u001b[0;34m,\u001b[0m\u001b[0;36m240\u001b[0m\u001b[0;34m,\u001b[0m\u001b[0;36m240\u001b[0m\u001b[0;34m)\u001b[0m\u001b[0;34m)\u001b[0m\u001b[0;34m)\u001b[0m\u001b[0;34m\u001b[0m\u001b[0;34m\u001b[0m\u001b[0m\n\u001b[0m\u001b[1;32m      7\u001b[0m     \u001b[0mpredicted_dist\u001b[0m \u001b[0;34m=\u001b[0m \u001b[0minverse_square\u001b[0m\u001b[0;34m(\u001b[0m\u001b[0mnum_pixel\u001b[0m\u001b[0;34m,\u001b[0m \u001b[0;34m*\u001b[0m\u001b[0mparams\u001b[0m\u001b[0;34m)\u001b[0m\u001b[0;34m\u001b[0m\u001b[0;34m\u001b[0m\u001b[0m\n\u001b[1;32m      8\u001b[0m     \u001b[0mprint\u001b[0m\u001b[0;34m(\u001b[0m\u001b[0mpredicted_dist\u001b[0m\u001b[0;34m)\u001b[0m\u001b[0;34m\u001b[0m\u001b[0;34m\u001b[0m\u001b[0m\n",
      "\u001b[0;31merror\u001b[0m: OpenCV(4.4.0) /private/var/folders/nz/vv4_9tw56nv9k3tkvyszvwg80000gn/T/pip-req-build-4jcifzim/opencv/modules/core/src/arithm.cpp:1743: error: (-215:Assertion failed) ! _src.empty() in function 'inRange'\n"
     ]
    }
   ],
   "source": [
    "# Predict distance for test set images\n",
    "test_dir = os.path.join(\"results\", \"GMM_test\")\n",
    "output_dir = os.path.join(\"results\", \"distance\")\n",
    "for img_name in os.listdir(test_dir):\n",
    "    mask = cv2.imread(os.path.join(test_dir, img_name))\n",
    "    num_pixel = cv2.countNonZero(cv2.inRange(mask,(20,20,20),(240,240,240)))\n",
    "    predicted_dist = inverse_square(num_pixel, *params)\n",
    "    print(predicted_dist)\n",
    "    h, w, _ = mask.shape\n",
    "    font = cv2.FONT_HERSHEY_SIMPLEX\n",
    "    img = cv2.putText(mask, \"D = {}\".format(predicted_dist), (int(h/5), int(w/5)), font, 0.5, (225, 225, 225), 1)\n",
    "    img_name = os.path.join(output_dir, \"Distance_\" + str(img_name))\n",
    "    cv2.imwrite(img_name, img)"
   ]
  },
  {
   "cell_type": "code",
   "execution_count": null,
   "metadata": {},
   "outputs": [],
   "source": []
  }
 ],
 "metadata": {
  "kernelspec": {
   "display_name": "Python 3",
   "language": "python",
   "name": "python3"
  },
  "language_info": {
   "codemirror_mode": {
    "name": "ipython",
    "version": 3
   },
   "file_extension": ".py",
   "mimetype": "text/x-python",
   "name": "python",
   "nbconvert_exporter": "python",
   "pygments_lexer": "ipython3",
   "version": "3.7.4"
  }
 },
 "nbformat": 4,
 "nbformat_minor": 1
}
